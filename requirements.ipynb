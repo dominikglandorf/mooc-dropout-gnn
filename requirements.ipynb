{
 "cells": [
  {
   "cell_type": "code",
   "execution_count": 1,
   "id": "fb12869f-f4bc-48a7-9dbb-1a3310e880f8",
   "metadata": {},
   "outputs": [
    {
     "name": "stdout",
     "output_type": "stream",
     "text": [
      "Collecting xeus-python\n",
      "  Downloading xeus_python-0.15.8-cp311-cp311-manylinux_2_24_x86_64.whl (2.1 MB)\n",
      "\u001b[2K     \u001b[90m━━━━━━━━━━━━━━━━━━━━━━━━━━━━━━━━━━━━━━━━\u001b[0m \u001b[32m2.1/2.1 MB\u001b[0m \u001b[31m24.0 MB/s\u001b[0m eta \u001b[36m0:00:00\u001b[0m00:01\u001b[0m00:01\u001b[0m\n",
      "\u001b[?25hRequirement already satisfied: pygments<3,>=2.3.1 in /home/cpsc483_dg963/.conda/envs/mooc/lib/python3.11/site-packages (from xeus-python) (2.16.1)\n",
      "Collecting xeus-python-shell[ipython]<0.6,>=0.5 (from xeus-python)\n",
      "  Downloading xeus_python_shell-0.5.0-py3-none-any.whl (8.1 kB)\n",
      "Requirement already satisfied: debugpy<2,>=1.1.0 in /home/cpsc483_dg963/.conda/envs/mooc/lib/python3.11/site-packages (from xeus-python-shell[ipython]<0.6,>=0.5->xeus-python) (1.8.0)\n",
      "Requirement already satisfied: ipython<9,>=7.21 in /home/cpsc483_dg963/.conda/envs/mooc/lib/python3.11/site-packages (from xeus-python-shell[ipython]<0.6,>=0.5->xeus-python) (8.16.1)\n",
      "Requirement already satisfied: backcall in /home/cpsc483_dg963/.conda/envs/mooc/lib/python3.11/site-packages (from ipython<9,>=7.21->xeus-python-shell[ipython]<0.6,>=0.5->xeus-python) (0.2.0)\n",
      "Requirement already satisfied: decorator in /home/cpsc483_dg963/.conda/envs/mooc/lib/python3.11/site-packages (from ipython<9,>=7.21->xeus-python-shell[ipython]<0.6,>=0.5->xeus-python) (5.1.1)\n",
      "Requirement already satisfied: jedi>=0.16 in /home/cpsc483_dg963/.conda/envs/mooc/lib/python3.11/site-packages (from ipython<9,>=7.21->xeus-python-shell[ipython]<0.6,>=0.5->xeus-python) (0.19.1)\n",
      "Requirement already satisfied: matplotlib-inline in /home/cpsc483_dg963/.conda/envs/mooc/lib/python3.11/site-packages (from ipython<9,>=7.21->xeus-python-shell[ipython]<0.6,>=0.5->xeus-python) (0.1.6)\n",
      "Requirement already satisfied: pickleshare in /home/cpsc483_dg963/.conda/envs/mooc/lib/python3.11/site-packages (from ipython<9,>=7.21->xeus-python-shell[ipython]<0.6,>=0.5->xeus-python) (0.7.5)\n",
      "Requirement already satisfied: prompt-toolkit!=3.0.37,<3.1.0,>=3.0.30 in /home/cpsc483_dg963/.conda/envs/mooc/lib/python3.11/site-packages (from ipython<9,>=7.21->xeus-python-shell[ipython]<0.6,>=0.5->xeus-python) (3.0.39)\n",
      "Requirement already satisfied: stack-data in /home/cpsc483_dg963/.conda/envs/mooc/lib/python3.11/site-packages (from ipython<9,>=7.21->xeus-python-shell[ipython]<0.6,>=0.5->xeus-python) (0.6.2)\n",
      "Requirement already satisfied: traitlets>=5 in /home/cpsc483_dg963/.conda/envs/mooc/lib/python3.11/site-packages (from ipython<9,>=7.21->xeus-python-shell[ipython]<0.6,>=0.5->xeus-python) (5.11.2)\n",
      "Requirement already satisfied: pexpect>4.3 in /home/cpsc483_dg963/.conda/envs/mooc/lib/python3.11/site-packages (from ipython<9,>=7.21->xeus-python-shell[ipython]<0.6,>=0.5->xeus-python) (4.8.0)\n",
      "Requirement already satisfied: parso<0.9.0,>=0.8.3 in /home/cpsc483_dg963/.conda/envs/mooc/lib/python3.11/site-packages (from jedi>=0.16->ipython<9,>=7.21->xeus-python-shell[ipython]<0.6,>=0.5->xeus-python) (0.8.3)\n",
      "Requirement already satisfied: ptyprocess>=0.5 in /home/cpsc483_dg963/.conda/envs/mooc/lib/python3.11/site-packages (from pexpect>4.3->ipython<9,>=7.21->xeus-python-shell[ipython]<0.6,>=0.5->xeus-python) (0.7.0)\n",
      "Requirement already satisfied: wcwidth in /home/cpsc483_dg963/.conda/envs/mooc/lib/python3.11/site-packages (from prompt-toolkit!=3.0.37,<3.1.0,>=3.0.30->ipython<9,>=7.21->xeus-python-shell[ipython]<0.6,>=0.5->xeus-python) (0.2.8)\n",
      "Requirement already satisfied: executing>=1.2.0 in /home/cpsc483_dg963/.conda/envs/mooc/lib/python3.11/site-packages (from stack-data->ipython<9,>=7.21->xeus-python-shell[ipython]<0.6,>=0.5->xeus-python) (1.2.0)\n",
      "Requirement already satisfied: asttokens>=2.1.0 in /home/cpsc483_dg963/.conda/envs/mooc/lib/python3.11/site-packages (from stack-data->ipython<9,>=7.21->xeus-python-shell[ipython]<0.6,>=0.5->xeus-python) (2.4.0)\n",
      "Requirement already satisfied: pure-eval in /home/cpsc483_dg963/.conda/envs/mooc/lib/python3.11/site-packages (from stack-data->ipython<9,>=7.21->xeus-python-shell[ipython]<0.6,>=0.5->xeus-python) (0.2.2)\n",
      "Requirement already satisfied: six>=1.12.0 in /home/cpsc483_dg963/.conda/envs/mooc/lib/python3.11/site-packages (from asttokens>=2.1.0->stack-data->ipython<9,>=7.21->xeus-python-shell[ipython]<0.6,>=0.5->xeus-python) (1.16.0)\n",
      "Installing collected packages: xeus-python-shell, xeus-python\n",
      "Successfully installed xeus-python-0.15.8 xeus-python-shell-0.5.0\n"
     ]
    }
   ],
   "source": [
    "!pip install xeus-python"
   ]
  },
  {
   "cell_type": "code",
   "execution_count": null,
   "id": "042744b7-6b5a-45a4-a68e-a0239729ea2d",
   "metadata": {},
   "outputs": [],
   "source": []
  }
 ],
 "metadata": {
  "kernelspec": {
   "display_name": "Python 3 (ipykernel)",
   "language": "python",
   "name": "python3"
  },
  "language_info": {
   "codemirror_mode": {
    "name": "ipython",
    "version": 3
   },
   "file_extension": ".py",
   "mimetype": "text/x-python",
   "name": "python",
   "nbconvert_exporter": "python",
   "pygments_lexer": "ipython3",
   "version": "3.11.6"
  }
 },
 "nbformat": 4,
 "nbformat_minor": 5
}
