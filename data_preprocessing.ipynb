{
 "cells": [
  {
   "cell_type": "code",
   "execution_count": 8,
   "metadata": {
    "id": "PyG_0zcJ8Rn2"
   },
   "outputs": [],
   "source": [
    "#!pip install torch\n",
    "#!pip install torch_geometric\n",
    "#!pip install matplotlib\n",
    "#!pip install pandas\n",
    "\n",
    "import matplotlib.pyplot as plt\n",
    "import pandas as pd\n",
    "import numpy as np\n",
    "import torch\n",
    "from torch_geometric.data import Data, HeteroData\n",
    "import torch_geometric.transforms as T"
   ]
  },
  {
   "cell_type": "markdown",
   "metadata": {
    "id": "JXm2m8n02ruh"
   },
   "source": [
    "# For KDD Cup dataset"
   ]
  },
  {
   "cell_type": "code",
   "execution_count": 2,
   "metadata": {},
   "outputs": [],
   "source": [
    "def get_data_object(user_ids, resource_ids, edge_index, edge_attr, edge_time, edge_y):\n",
    "    data = HeteroData()\n",
    "    data[\"user\"].node_id = torch.tensor(user_ids)\n",
    "    data[\"resource\"].node_id = torch.tensor(resource_ids)\n",
    "    data[\"user\", \"accesses\", \"resource\"].edge_index = torch.tensor(edge_index).t().contiguous()\n",
    "    data[\"user\", \"accesses\", \"resource\"].edge_attr = torch.tensor(edge_attr)\n",
    "    data[\"user\", \"accesses\", \"resource\"].time = torch.tensor(edge_time)\n",
    "    data[\"user\", \"accesses\", \"resource\"].edge_y = torch.tensor(edge_y)\n",
    "    data = T.ToUndirected()(data)\n",
    "    return data"
   ]
  },
  {
   "cell_type": "code",
   "execution_count": 3,
   "metadata": {
    "colab": {
     "base_uri": "https://localhost:8080/"
    },
    "id": "BuN2D4dKzjJI",
    "outputId": "1443fb70-a02b-47ed-94b6-fbb746d70deb"
   },
   "outputs": [
    {
     "data": {
      "text/plain": [
       "HeteroData(\n",
       "  user={ node_id=[7047] },\n",
       "  resource={ node_id=[97] },\n",
       "  (user, accesses, resource)={\n",
       "    edge_index=[2, 411749],\n",
       "    edge_attr=[411749, 4],\n",
       "    time=[411749],\n",
       "    edge_y=[411749],\n",
       "  },\n",
       "  (resource, rev_accesses, user)={\n",
       "    edge_index=[2, 411749],\n",
       "    edge_attr=[411749, 4],\n",
       "    time=[411749],\n",
       "    edge_y=[411749],\n",
       "  }\n",
       ")"
      ]
     },
     "execution_count": 3,
     "metadata": {},
     "output_type": "execute_result"
    }
   ],
   "source": [
    "path = \"data/act-mooc/\"\n",
    "\n",
    "# load TSV files\n",
    "actions_df = pd.read_csv(path + 'mooc_actions.tsv', sep='\\t')\n",
    "labels_df = pd.read_csv(path + 'mooc_action_labels.tsv', sep='\\t')\n",
    "features_df = pd.read_csv(path + 'mooc_action_features.tsv', sep='\\t')\n",
    "\n",
    "data = get_data_object(user_ids=actions_df['USERID'].unique(),\n",
    "                      resource_ids=actions_df['TARGETID'].unique(),\n",
    "                      edge_index=actions_df[['USERID', 'TARGETID']].values,\n",
    "                      edge_attr=features_df[['FEATURE0', 'FEATURE1', 'FEATURE2', 'FEATURE3']].values,\n",
    "                      edge_time=actions_df['TIMESTAMP'].values,\n",
    "                      edge_y=labels_df['LABEL'].values)\n",
    "\n",
    "data"
   ]
  },
  {
   "cell_type": "code",
   "execution_count": 4,
   "metadata": {},
   "outputs": [
    {
     "data": {
      "text/plain": [
       "2572086.0"
      ]
     },
     "execution_count": 4,
     "metadata": {},
     "output_type": "execute_result"
    }
   ],
   "source": [
    "actions_df['TIMESTAMP'].max()"
   ]
  },
  {
   "cell_type": "code",
   "execution_count": 13,
   "metadata": {},
   "outputs": [
    {
     "data": {
      "text/plain": [
       "TIMESTAMP    2570620.0\n",
       "LABEL              1.0\n",
       "dtype: float64"
      ]
     },
     "execution_count": 13,
     "metadata": {},
     "output_type": "execute_result"
    }
   ],
   "source": [
    "tsl = pd.concat([actions_df['TIMESTAMP'], labels_df['LABEL']], axis=1)\n",
    "tsl.loc[tsl['LABEL']==1,].max()"
   ]
  },
  {
   "cell_type": "markdown",
   "metadata": {
    "id": "g4BrGcRP6DSm"
   },
   "source": [
    "sanity check for the data object"
   ]
  },
  {
   "cell_type": "code",
   "execution_count": 96,
   "metadata": {
    "id": "idM1iZRm5Bar"
   },
   "outputs": [],
   "source": [
    "# compare stats from https://snap.stanford.edu/data/act-mooc.html\n",
    "assert data.edge_index_dict[\"user\", \"accesses\", \"resource\"].shape[1] == 411749\n",
    "assert data['resource'].num_nodes == 97\n",
    "assert data['user'].num_nodes == 7047\n",
    "assert (data.edge_y_dict[(\"user\", \"accesses\", \"resource\")] == 1).sum().item() == 4066"
   ]
  },
  {
   "cell_type": "code",
   "execution_count": 97,
   "metadata": {
    "id": "pAmqDjQw09OQ"
   },
   "outputs": [],
   "source": [
    "torch.save(data, path + \"graph.pt\")"
   ]
  },
  {
   "cell_type": "markdown",
   "metadata": {
    "id": "QFzpgVxP2p2Y"
   },
   "source": [
    "# For Junyi dataset"
   ]
  },
  {
   "cell_type": "code",
   "execution_count": 21,
   "metadata": {
    "colab": {
     "base_uri": "https://localhost:8080/",
     "height": 300
    },
    "id": "EobXzXR_17eL",
    "outputId": "76dece9c-6f99-4c76-ebb3-42d1abe1c22b"
   },
   "outputs": [],
   "source": [
    "path = \"data/junyi/\"\n",
    "\n",
    "# Read the Log_Problem.csv file\n",
    "log_problem_df = pd.read_csv(path + \"Log_Problem.csv\")\n"
   ]
  },
  {
   "cell_type": "code",
   "execution_count": 22,
   "metadata": {},
   "outputs": [
    {
     "data": {
      "text/plain": [
       "(16217311, 14)"
      ]
     },
     "execution_count": 22,
     "metadata": {},
     "output_type": "execute_result"
    }
   ],
   "source": [
    "log_problem_df.shape"
   ]
  },
  {
   "cell_type": "code",
   "execution_count": 23,
   "metadata": {
    "colab": {
     "base_uri": "https://localhost:8080/",
     "height": 309
    },
    "id": "o1e_LRv5BMhX",
    "outputId": "aa6ca6af-bc92-41ae-dcf0-52d95a9476d1"
   },
   "outputs": [
    {
     "data": {
      "text/html": [
       "<div>\n",
       "<style scoped>\n",
       "    .dataframe tbody tr th:only-of-type {\n",
       "        vertical-align: middle;\n",
       "    }\n",
       "\n",
       "    .dataframe tbody tr th {\n",
       "        vertical-align: top;\n",
       "    }\n",
       "\n",
       "    .dataframe thead th {\n",
       "        text-align: right;\n",
       "    }\n",
       "</style>\n",
       "<table border=\"1\" class=\"dataframe\">\n",
       "  <thead>\n",
       "    <tr style=\"text-align: right;\">\n",
       "      <th></th>\n",
       "      <th>timestamp_TW</th>\n",
       "      <th>uuid</th>\n",
       "      <th>ucid</th>\n",
       "      <th>upid</th>\n",
       "      <th>problem_number</th>\n",
       "      <th>exercise_problem_repeat_session</th>\n",
       "      <th>is_correct</th>\n",
       "      <th>total_sec_taken</th>\n",
       "      <th>total_attempt_cnt</th>\n",
       "      <th>used_hint_cnt</th>\n",
       "      <th>is_hint_used</th>\n",
       "      <th>is_downgrade</th>\n",
       "      <th>is_upgrade</th>\n",
       "      <th>level</th>\n",
       "    </tr>\n",
       "  </thead>\n",
       "  <tbody>\n",
       "    <tr>\n",
       "      <th>0</th>\n",
       "      <td>2019-05-26 21:00:00 UTC</td>\n",
       "      <td>FLy+lviglNR5Y1l0Xiijnl6QHySBcpKHJLCtQ6ogm2Q=</td>\n",
       "      <td>KDOmuTrY/IJzDP4kIgIYCBiGyTymsJ8Iy4cDB35WGYg=</td>\n",
       "      <td>Vbs92l4JmdiWkUEm/iahxnUTaac2oN1IlUtXB7JcfoE=</td>\n",
       "      <td>18</td>\n",
       "      <td>2</td>\n",
       "      <td>True</td>\n",
       "      <td>33</td>\n",
       "      <td>1</td>\n",
       "      <td>0</td>\n",
       "      <td>False</td>\n",
       "      <td>False</td>\n",
       "      <td>True</td>\n",
       "      <td>3</td>\n",
       "    </tr>\n",
       "    <tr>\n",
       "      <th>1</th>\n",
       "      <td>2019-05-17 16:30:00 UTC</td>\n",
       "      <td>+Gqj2nalc6M9fusyVECTC0AN7UQdDQTXESIuElkDltU=</td>\n",
       "      <td>COZ39Wo+uIUO2s7c2VGEHjJf6Vx0xifxVAiaeHtaTdk=</td>\n",
       "      <td>Ek+pIeHNNoEo0tGEq91eBcBmGgy3+A5RWhpj95zTyHM=</td>\n",
       "      <td>4</td>\n",
       "      <td>1</td>\n",
       "      <td>True</td>\n",
       "      <td>8</td>\n",
       "      <td>1</td>\n",
       "      <td>0</td>\n",
       "      <td>False</td>\n",
       "      <td>NaN</td>\n",
       "      <td>NaN</td>\n",
       "      <td>0</td>\n",
       "    </tr>\n",
       "    <tr>\n",
       "      <th>2</th>\n",
       "      <td>2019-05-15 19:15:00 UTC</td>\n",
       "      <td>6D5QN8j8ng/VR74ES3A0zqAj0bIFFyaKjKEj8ZyXjQ8=</td>\n",
       "      <td>TwyqyV1uJYlDAX8wX/PtTCVZEBo/APIVfTzzleGkNCQ=</td>\n",
       "      <td>1MBa2f5Qog4JBoAuUfJf0fxeJctdEirAqKgfsg246eI=</td>\n",
       "      <td>9</td>\n",
       "      <td>1</td>\n",
       "      <td>True</td>\n",
       "      <td>17</td>\n",
       "      <td>1</td>\n",
       "      <td>0</td>\n",
       "      <td>False</td>\n",
       "      <td>NaN</td>\n",
       "      <td>NaN</td>\n",
       "      <td>0</td>\n",
       "    </tr>\n",
       "    <tr>\n",
       "      <th>3</th>\n",
       "      <td>2019-05-05 14:45:00 UTC</td>\n",
       "      <td>GgTZuCqZXObthtK6GAwqvlHrTMm5pKHWeezQxL/pcKc=</td>\n",
       "      <td>tBo6ECyT8IlKAM8UhQHWkqv92PRLcSiwuerfC7vNX+w=</td>\n",
       "      <td>kdMy2nG+QVMjPkuaMEWs0yV/sYZVoG1vm7zM0fCy+qk=</td>\n",
       "      <td>2</td>\n",
       "      <td>1</td>\n",
       "      <td>True</td>\n",
       "      <td>10</td>\n",
       "      <td>1</td>\n",
       "      <td>0</td>\n",
       "      <td>False</td>\n",
       "      <td>NaN</td>\n",
       "      <td>NaN</td>\n",
       "      <td>0</td>\n",
       "    </tr>\n",
       "    <tr>\n",
       "      <th>4</th>\n",
       "      <td>2019-05-14 16:45:00 UTC</td>\n",
       "      <td>JMNKWoU0CkMSzgQ8bCnmCYlD8jEzAVge3lHMYLXKM2g=</td>\n",
       "      <td>vVpSKAMQbTMvtdERR0ksOeRmmaFt0R210t4Z//0RpPA=</td>\n",
       "      <td>jjPR8fmkLSFoCQQYB4g6kI8mgdcK3sKtMirKUvfmZIk=</td>\n",
       "      <td>6</td>\n",
       "      <td>1</td>\n",
       "      <td>True</td>\n",
       "      <td>98</td>\n",
       "      <td>1</td>\n",
       "      <td>0</td>\n",
       "      <td>False</td>\n",
       "      <td>NaN</td>\n",
       "      <td>NaN</td>\n",
       "      <td>0</td>\n",
       "    </tr>\n",
       "  </tbody>\n",
       "</table>\n",
       "</div>"
      ],
      "text/plain": [
       "              timestamp_TW                                          uuid  \\\n",
       "0  2019-05-26 21:00:00 UTC  FLy+lviglNR5Y1l0Xiijnl6QHySBcpKHJLCtQ6ogm2Q=   \n",
       "1  2019-05-17 16:30:00 UTC  +Gqj2nalc6M9fusyVECTC0AN7UQdDQTXESIuElkDltU=   \n",
       "2  2019-05-15 19:15:00 UTC  6D5QN8j8ng/VR74ES3A0zqAj0bIFFyaKjKEj8ZyXjQ8=   \n",
       "3  2019-05-05 14:45:00 UTC  GgTZuCqZXObthtK6GAwqvlHrTMm5pKHWeezQxL/pcKc=   \n",
       "4  2019-05-14 16:45:00 UTC  JMNKWoU0CkMSzgQ8bCnmCYlD8jEzAVge3lHMYLXKM2g=   \n",
       "\n",
       "                                           ucid  \\\n",
       "0  KDOmuTrY/IJzDP4kIgIYCBiGyTymsJ8Iy4cDB35WGYg=   \n",
       "1  COZ39Wo+uIUO2s7c2VGEHjJf6Vx0xifxVAiaeHtaTdk=   \n",
       "2  TwyqyV1uJYlDAX8wX/PtTCVZEBo/APIVfTzzleGkNCQ=   \n",
       "3  tBo6ECyT8IlKAM8UhQHWkqv92PRLcSiwuerfC7vNX+w=   \n",
       "4  vVpSKAMQbTMvtdERR0ksOeRmmaFt0R210t4Z//0RpPA=   \n",
       "\n",
       "                                           upid  problem_number  \\\n",
       "0  Vbs92l4JmdiWkUEm/iahxnUTaac2oN1IlUtXB7JcfoE=              18   \n",
       "1  Ek+pIeHNNoEo0tGEq91eBcBmGgy3+A5RWhpj95zTyHM=               4   \n",
       "2  1MBa2f5Qog4JBoAuUfJf0fxeJctdEirAqKgfsg246eI=               9   \n",
       "3  kdMy2nG+QVMjPkuaMEWs0yV/sYZVoG1vm7zM0fCy+qk=               2   \n",
       "4  jjPR8fmkLSFoCQQYB4g6kI8mgdcK3sKtMirKUvfmZIk=               6   \n",
       "\n",
       "   exercise_problem_repeat_session  is_correct  total_sec_taken  \\\n",
       "0                                2        True               33   \n",
       "1                                1        True                8   \n",
       "2                                1        True               17   \n",
       "3                                1        True               10   \n",
       "4                                1        True               98   \n",
       "\n",
       "   total_attempt_cnt  used_hint_cnt  is_hint_used is_downgrade is_upgrade  \\\n",
       "0                  1              0         False        False       True   \n",
       "1                  1              0         False          NaN        NaN   \n",
       "2                  1              0         False          NaN        NaN   \n",
       "3                  1              0         False          NaN        NaN   \n",
       "4                  1              0         False          NaN        NaN   \n",
       "\n",
       "   level  \n",
       "0      3  \n",
       "1      0  \n",
       "2      0  \n",
       "3      0  \n",
       "4      0  "
      ]
     },
     "execution_count": 23,
     "metadata": {},
     "output_type": "execute_result"
    }
   ],
   "source": [
    "log_problem_df.head()"
   ]
  },
  {
   "cell_type": "code",
   "execution_count": 24,
   "metadata": {
    "colab": {
     "base_uri": "https://localhost:8080/"
    },
    "id": "dO1BBHVg9eas",
    "outputId": "e51d13a8-6e2e-4743-e79e-9622ee114aab"
   },
   "outputs": [
    {
     "data": {
      "text/plain": [
       "1702"
      ]
     },
     "execution_count": 24,
     "metadata": {},
     "output_type": "execute_result"
    }
   ],
   "source": [
    "len(list(log_problem_df.problem_number.unique()))"
   ]
  },
  {
   "cell_type": "code",
   "execution_count": 25,
   "metadata": {
    "colab": {
     "base_uri": "https://localhost:8080/"
    },
    "id": "EKWcVm9VDma7",
    "outputId": "72f62462-c5bd-4bdb-c95b-df59c88fd09a"
   },
   "outputs": [
    {
     "data": {
      "text/plain": [
       "72758"
      ]
     },
     "execution_count": 25,
     "metadata": {},
     "output_type": "execute_result"
    }
   ],
   "source": [
    "len(list(log_problem_df.uuid.unique()))"
   ]
  },
  {
   "cell_type": "code",
   "execution_count": 26,
   "metadata": {},
   "outputs": [],
   "source": [
    "unique_ids = log_problem_df.uuid.unique()\n",
    "sampled_ids = np.random.choice(unique_ids, size=7000, replace=False)\n",
    "log_problem_df_2 = log_problem_df[log_problem_df.uuid.isin(sampled_ids)]"
   ]
  },
  {
   "cell_type": "code",
   "execution_count": 27,
   "metadata": {},
   "outputs": [
    {
     "data": {
      "text/plain": [
       "7000"
      ]
     },
     "execution_count": 27,
     "metadata": {},
     "output_type": "execute_result"
    }
   ],
   "source": [
    "len(list(log_problem_df_2.uuid.unique()))"
   ]
  },
  {
   "cell_type": "code",
   "execution_count": 28,
   "metadata": {},
   "outputs": [
    {
     "data": {
      "text/plain": [
       "283"
      ]
     },
     "execution_count": 28,
     "metadata": {},
     "output_type": "execute_result"
    }
   ],
   "source": [
    "len(list(log_problem_df_2.problem_number.unique()))"
   ]
  },
  {
   "cell_type": "code",
   "execution_count": 29,
   "metadata": {},
   "outputs": [
    {
     "data": {
      "text/plain": [
       "(1568357, 14)"
      ]
     },
     "execution_count": 29,
     "metadata": {},
     "output_type": "execute_result"
    }
   ],
   "source": [
    "log_problem_df_2.shape"
   ]
  },
  {
   "cell_type": "code",
   "execution_count": 31,
   "metadata": {
    "colab": {
     "base_uri": "https://localhost:8080/",
     "height": 276
    },
    "id": "UG8SiM8825ht",
    "outputId": "789cb77c-fddf-4a26-ccbe-5ddc869b794a"
   },
   "outputs": [
    {
     "data": {
      "text/plain": [
       "HeteroData(\n",
       "  user={ node_id=[7000] },\n",
       "  resource={ node_id=[283] },\n",
       "  (user, accesses, resource)={\n",
       "    edge_index=[2, 1568357],\n",
       "    edge_attr=[1568357, 6],\n",
       "    time=[1568357],\n",
       "    edge_y=[1568357],\n",
       "  },\n",
       "  (resource, rev_accesses, user)={\n",
       "    edge_index=[2, 1568357],\n",
       "    edge_attr=[1568357, 6],\n",
       "    time=[1568357],\n",
       "    edge_y=[1568357],\n",
       "  }\n",
       ")"
      ]
     },
     "execution_count": 31,
     "metadata": {},
     "output_type": "execute_result"
    }
   ],
   "source": [
    "def process_and_save(log_problem_df, file_name)\n",
    "\n",
    "    # map uuid to USERID\n",
    "    log_problem_df['USERID'] = pd.factorize(log_problem_df.uuid)[0]\n",
    "    log_problem_df['RESOURCEID'] = pd.factorize(log_problem_df.problem_number)[0]\n",
    "    \n",
    "    # extract edge features\n",
    "    log_problem_df['timestamp_TW'] = pd.to_datetime(log_problem_df['timestamp_TW'], format='%Y-%m-%d %H:%M:%S UTC')\n",
    "    earliest_time = log_problem_df['timestamp_TW'].min()\n",
    "    log_problem_df['seconds_since_start'] = (log_problem_df['timestamp_TW'] - earliest_time).dt.total_seconds()\n",
    "    \n",
    "    log_problem_df['is_correct'] = log_problem_df['is_correct'].fillna(-1).astype(int)\n",
    "    edge_attr = log_problem_df[['exercise_problem_repeat_session', 'is_correct', 'total_sec_taken', 'total_attempt_cnt', 'used_hint_cnt', 'level']].values\n",
    "    \n",
    "    one_month_in_seconds = 30*24*3600\n",
    "    latest_time = log_problem_df['seconds_since_start'].max()\n",
    "    \n",
    "    log_problem_df = log_problem_df.sort_values(by='seconds_since_start')\n",
    "    time_diffs = log_problem_df.groupby('USERID')['seconds_since_start'].diff(-1).abs()\n",
    "    \n",
    "    # Flag interactions followed by a break of over one month\n",
    "    log_problem_df['dropout'] = time_diffs.gt(one_month_in_seconds).astype(int)\n",
    "    \n",
    "    # Flag the very last interaction of a user if it's more than a month from the end\n",
    "    is_last_interaction = log_problem_df['seconds_since_start'] == log_problem_df.groupby('USERID')['seconds_since_start'].transform('last')\n",
    "    log_problem_df.loc[is_last_interaction & (latest_time - log_problem_df['seconds_since_start'] > one_month_in_seconds), 'dropout'] = 1\n",
    "    \n",
    "    \n",
    "    # Create PyTorch Geometric Data\n",
    "    data = get_data_object(user_ids=log_problem_df['USERID'].unique(),\n",
    "                          resource_ids=log_problem_df['RESOURCEID'].unique(),\n",
    "                          edge_index=log_problem_df[['USERID', 'RESOURCEID']].values,\n",
    "                          edge_attr=edge_attr,\n",
    "                          edge_time=log_problem_df['seconds_since_start'].values,\n",
    "                          edge_y=log_problem_df['dropout'].values)\n",
    "    data = T.NormalizeFeatures()(data)\n",
    "    \n",
    "    torch.save(data, file_name)\n",
    "    \n",
    "    print(data)\n",
    "    return data"
   ]
  },
  {
   "cell_type": "code",
   "execution_count": null,
   "metadata": {},
   "outputs": [],
   "source": [
    "data = process_and_save(log_problem_df, path + \"graph.pt\")\n",
    "assert data.edge_index_dict[\"user\", \"accesses\", \"resource\"].shape[1] == 16217311\n",
    "assert data['resource'].num_nodes == 1702\n",
    "assert data['user'].num_nodes == 72758"
   ]
  },
  {
   "cell_type": "code",
   "execution_count": 36,
   "metadata": {
    "id": "Wydywe1cThvK"
   },
   "outputs": [],
   "source": [
    "data = process_and_save(log_problem_df2, path + \"graph_sub.pt\")\n",
    "assert data.edge_index_dict[\"user\", \"accesses\", \"resource\"].shape[1] < 5000000\n",
    "assert data['resource'].num_nodes < 1702\n",
    "assert data['user'].num_nodes == 7000"
   ]
  }
 ],
 "metadata": {
  "colab": {
   "provenance": []
  },
  "kernelspec": {
   "display_name": "Python 3 (ipykernel)",
   "language": "python",
   "name": "python3"
  },
  "language_info": {
   "codemirror_mode": {
    "name": "ipython",
    "version": 3
   },
   "file_extension": ".py",
   "mimetype": "text/x-python",
   "name": "python",
   "nbconvert_exporter": "python",
   "pygments_lexer": "ipython3",
   "version": "3.11.6"
  }
 },
 "nbformat": 4,
 "nbformat_minor": 4
}
