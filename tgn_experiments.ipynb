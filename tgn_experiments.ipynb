{
 "cells": [
  {
   "cell_type": "code",
   "execution_count": 1,
   "id": "f7a505e7-0fb5-494d-99eb-c8f75911b8a7",
   "metadata": {
    "editable": true,
    "slideshow": {
     "slide_type": ""
    },
    "tags": []
   },
   "outputs": [
    {
     "name": "stdout",
     "output_type": "stream",
     "text": [
      "cpu\n"
     ]
    }
   ],
   "source": [
    "import os.path as osp\n",
    "\n",
    "import torch\n",
    "from sklearn.metrics import average_precision_score, roc_auc_score\n",
    "from torch.nn import Linear\n",
    "\n",
    "from torch_geometric.data import TemporalData\n",
    "from torch_geometric.loader import TemporalDataLoader\n",
    "from torch_geometric.nn import TGNMemory, TransformerConv\n",
    "from torch_geometric.nn.models.tgn import (\n",
    "    IdentityMessage,\n",
    "    LastAggregator,\n",
    "    LastNeighborLoader,\n",
    ")\n",
    "from tqdm import tqdm\n",
    "\n",
    "device = torch.device('cuda' if torch.cuda.is_available() else 'cpu')\n",
    "device = 'cpu'\n",
    "print(device)"
   ]
  },
  {
   "cell_type": "code",
   "execution_count": 2,
   "id": "fd7dc7f5-d285-43c5-a42d-62ff923cf173",
   "metadata": {},
   "outputs": [],
   "source": [
    "# hyperparameters\n",
    "batch_size = 1000\n",
    "memory_dim = 100\n",
    "time_dim = 100\n",
    "embedding_dim = 100\n",
    "learning_rate = 0.001\n",
    "dropout = 0.1\n",
    "num_epochs = 5\n",
    "#data = torch.load(\"data/act-mooc/graph.pt\")\n",
    "data = torch.load(\"data/junyi/graph_sub.pt\")"
   ]
  },
  {
   "cell_type": "code",
   "execution_count": 3,
   "id": "166f7023-1b15-4fa9-ad08-770aae682f08",
   "metadata": {
    "editable": true,
    "slideshow": {
     "slide_type": ""
    },
    "tags": []
   },
   "outputs": [],
   "source": [
    "# data preparation\n",
    "del data[('resource', 'rev_accesses', 'user')]\n",
    "data_hom = data.to_homogeneous()\n",
    "data_temp = TemporalData(\n",
    "    src=data_hom.edge_index[0,:].to(torch.long),\n",
    "    dst=data_hom.edge_index[1,:].to(torch.long),\n",
    "    t=data_hom.time.to(torch.long),\n",
    "    msg=data_hom.edge_attr.to(torch.float),\n",
    "    y=data_hom.edge_y.to(torch.long)\n",
    ")\n",
    "data = data_temp"
   ]
  },
  {
   "cell_type": "markdown",
   "id": "55575d20-28ed-483e-8852-36a3c2e64e8a",
   "metadata": {},
   "source": [
    "define data loaders"
   ]
  },
  {
   "cell_type": "code",
   "execution_count": 4,
   "id": "4227a86c-04ed-4ec9-a373-15b24d83de85",
   "metadata": {
    "editable": true,
    "slideshow": {
     "slide_type": ""
    },
    "tags": []
   },
   "outputs": [],
   "source": [
    "# For small datasets, we can put the whole dataset on GPU and thus avoid\n",
    "# expensive memory transfer costs for mini-batches:\n",
    "data = data.to(device)\n",
    "\n",
    "train_data, val_data, test_data = data.train_val_test_split(\n",
    "    val_ratio=0.15, test_ratio=0.15)\n",
    "\n",
    "train_loader = TemporalDataLoader(\n",
    "    train_data,\n",
    "    batch_size=batch_size,\n",
    "    neg_sampling_ratio=1.0,\n",
    ")\n",
    "val_loader = TemporalDataLoader(\n",
    "    val_data,\n",
    "    batch_size=batch_size,\n",
    "    neg_sampling_ratio=1.0,\n",
    ")\n",
    "test_loader = TemporalDataLoader(\n",
    "    test_data,\n",
    "    batch_size=batch_size,\n",
    "    neg_sampling_ratio=1.0,\n",
    ")\n",
    "neighbor_loader = LastNeighborLoader(data.num_nodes, size=10, device=device)"
   ]
  },
  {
   "cell_type": "code",
   "execution_count": 5,
   "id": "ac53cbd6-de2f-4061-9a91-cd0e63e113b2",
   "metadata": {
    "editable": true,
    "slideshow": {
     "slide_type": ""
    },
    "tags": []
   },
   "outputs": [],
   "source": [
    "class GraphAttentionEmbedding(torch.nn.Module):\n",
    "    def __init__(self, in_channels, out_channels, msg_dim, time_enc):\n",
    "        super().__init__()\n",
    "        self.time_enc = time_enc\n",
    "        edge_dim = msg_dim + time_enc.out_channels\n",
    "        self.conv = TransformerConv(in_channels, out_channels // 2, heads=2,\n",
    "                                    dropout=dropout, edge_dim=edge_dim)\n",
    "\n",
    "    def forward(self, x, last_update, edge_index, t, msg):\n",
    "        rel_t = last_update[edge_index[0]] - t\n",
    "        rel_t_enc = self.time_enc(rel_t.to(x.dtype))\n",
    "        edge_attr = torch.cat([rel_t_enc, msg], dim=-1)\n",
    "        return self.conv(x, edge_index, edge_attr)\n",
    "\n",
    "\n",
    "class LinkPredictor(torch.nn.Module):\n",
    "    def __init__(self, in_channels):\n",
    "        super().__init__()\n",
    "        self.lin_src = Linear(in_channels, in_channels)\n",
    "        self.lin_dst = Linear(in_channels, in_channels)\n",
    "        self.lin_final = Linear(in_channels, 1)\n",
    "\n",
    "    def forward(self, z_src, z_dst):\n",
    "        h = self.lin_src(z_src) + self.lin_dst(z_dst)\n",
    "        h = h.relu()\n",
    "        return self.lin_final(h)"
   ]
  },
  {
   "cell_type": "code",
   "execution_count": null,
   "id": "5c20bb4c-ea04-431b-b8f5-21f876e9995a",
   "metadata": {
    "editable": true,
    "slideshow": {
     "slide_type": ""
    },
    "tags": []
   },
   "outputs": [],
   "source": [
    "def train():\n",
    "    memory.train()\n",
    "    gnn.train()\n",
    "    link_pred.train()\n",
    "\n",
    "    memory.reset_state()  # Start with a fresh memory.\n",
    "    neighbor_loader.reset_state()  # Start with an empty graph.\n",
    "\n",
    "    total_loss = 0\n",
    "    for batch in tqdm(train_loader):\n",
    "        optimizer.zero_grad()\n",
    "        batch = batch.to(device)\n",
    "\n",
    "        n_id, edge_index, e_id = neighbor_loader(batch.n_id)\n",
    "        \n",
    "        assoc[n_id] = torch.arange(n_id.size(0), device=device)\n",
    "\n",
    "        # Get updated memory of all nodes involved in the computation.\n",
    "        z, last_update = memory(n_id)\n",
    "        z = gnn(z, last_update, edge_index, data.t[e_id].to(device),\n",
    "                data.msg[e_id].to(device))\n",
    "\n",
    "        positive_edges = batch.edge_index[:, batch.y == 1]\n",
    "        pos_out = link_pred(z[assoc[positive_edges[0]]], z[assoc[positive_edges[1]]])\n",
    "        loss = criterion(pos_out, torch.ones_like(pos_out))\n",
    "        \n",
    "        negative_indices = torch.nonzero(batch.y == 0).squeeze()\n",
    "        negative_indices = negative_indices[torch.randperm(negative_indices.size(0))][:positive_edges.size(1)]\n",
    "        negative_edges = batch.edge_index[:, negative_indices]\n",
    "        neg_out = link_pred(z[assoc[negative_edges[0]]], z[assoc[negative_edges[1]]])\n",
    "        loss += criterion(neg_out, torch.zeros_like(neg_out))\n",
    "\n",
    "        # Update memory and neighbor loader with ground-truth state.\n",
    "        memory.update_state(batch.src, batch.dst, batch.t, batch.msg)\n",
    "        neighbor_loader.insert(batch.src, batch.dst)\n",
    "\n",
    "        loss.backward()\n",
    "        optimizer.step()\n",
    "        memory.detach()\n",
    "        total_loss += float(loss) * batch.num_events\n",
    "\n",
    "    return total_loss / train_data.num_events\n",
    "\n",
    "\n",
    "@torch.no_grad()\n",
    "def test(loader):\n",
    "    memory.eval()\n",
    "    gnn.eval()\n",
    "    link_pred.eval()\n",
    "\n",
    "    torch.manual_seed(12345)  # Ensure deterministic sampling across epochs.\n",
    "\n",
    "    aps, aucs = [], []\n",
    "    for batch in tqdm(loader):\n",
    "        batch = batch.to(device)\n",
    "\n",
    "        n_id, edge_index, e_id = neighbor_loader(batch.n_id)\n",
    "        assoc[n_id] = torch.arange(n_id.size(0), device=device)\n",
    "\n",
    "        z, last_update = memory(n_id)\n",
    "        z = gnn(z, last_update, edge_index, data.t[e_id].to(device), data.msg[e_id].to(device))\n",
    "        \n",
    "        out = link_pred(z[assoc[batch.src]], z[assoc[batch.dst]])\n",
    "\n",
    "        y_pred = out.sigmoid().cpu()\n",
    "        y_true = batch.y\n",
    "\n",
    "        if (y_true>0).any():\n",
    "            aps.append(average_precision_score(y_true, y_pred))\n",
    "            aucs.append(roc_auc_score(y_true, y_pred))\n",
    "\n",
    "        memory.update_state(batch.src, batch.dst, batch.t, batch.msg)\n",
    "        neighbor_loader.insert(batch.src, batch.dst)\n",
    "    return float(torch.tensor(aps).mean()), float(torch.tensor(aucs).mean())"
   ]
  },
  {
   "cell_type": "code",
   "execution_count": null,
   "id": "d804e63c-751c-40b0-b249-27fc6fd31e8d",
   "metadata": {},
   "outputs": [],
   "source": [
    "memory = TGNMemory(data.num_nodes, data.msg.size(-1), memory_dim, time_dim,\n",
    "                   message_module=IdentityMessage(data.msg.size(-1), memory_dim, time_dim),\n",
    "                   aggregator_module=LastAggregator(),).to(device)\n",
    "\n",
    "gnn = GraphAttentionEmbedding(in_channels=memory_dim, out_channels=embedding_dim, msg_dim=data.msg.size(-1), time_enc=memory.time_enc,).to(device)\n",
    "link_pred = LinkPredictor(in_channels=embedding_dim).to(device)\n",
    "\n",
    "optimizer = torch.optim.Adam(set(memory.parameters()) | set(gnn.parameters()) | set(link_pred.parameters()), lr=learning_rate)\n",
    "criterion = torch.nn.BCEWithLogitsLoss()\n",
    "\n",
    "assoc = torch.empty(data.num_nodes, dtype=torch.long, device=device)"
   ]
  },
  {
   "cell_type": "code",
   "execution_count": null,
   "id": "b8a4027b-fd1e-44ba-a2eb-bc07c3af4e14",
   "metadata": {},
   "outputs": [],
   "source": [
    "for epoch in range(0, num_epochs):\n",
    "    loss = train()\n",
    "    print(f'Epoch: {epoch:02d}, Loss: {loss:.4f}')\n",
    "    val_ap, val_auc = test(val_loader)\n",
    "    test_ap, test_auc = test(test_loader)\n",
    "    print(f'Val AP: {val_ap:.4f}, Val AUC: {val_auc:.4f}')\n",
    "    print(f'Test AP: {test_ap:.4f}, Test AUC: {test_auc:.4f}')\n",
    "\n",
    "    append_to_csv(\"results_tgn.csv\", dataset_path, batch_size, num_epochs, learning_rate, embedding_dim, time_dim, memory_dim, dropout,\n",
    "                  loss, train_auc, val_auc, test_auc, train_ap, val_ap, test_ap, i)"
   ]
  },
  {
   "cell_type": "code",
   "execution_count": null,
   "id": "f335bf5a-bec4-489f-88ee-8876e6914dea",
   "metadata": {},
   "outputs": [],
   "source": []
  },
  {
   "cell_type": "code",
   "execution_count": null,
   "id": "0fe27d86-38b9-4488-8690-8ccbd4dc9bab",
   "metadata": {},
   "outputs": [],
   "source": []
  }
 ],
 "metadata": {
  "kernelspec": {
   "display_name": "Python 3 (ipykernel)",
   "language": "python",
   "name": "python3"
  },
  "language_info": {
   "codemirror_mode": {
    "name": "ipython",
    "version": 3
   },
   "file_extension": ".py",
   "mimetype": "text/x-python",
   "name": "python",
   "nbconvert_exporter": "python",
   "pygments_lexer": "ipython3",
   "version": "3.11.6"
  }
 },
 "nbformat": 4,
 "nbformat_minor": 5
}
