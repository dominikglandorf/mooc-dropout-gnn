{
 "cells": [
  {
   "cell_type": "code",
   "execution_count": 4,
   "id": "f7a505e7-0fb5-494d-99eb-c8f75911b8a7",
   "metadata": {
    "editable": true,
    "slideshow": {
     "slide_type": ""
    },
    "tags": []
   },
   "outputs": [],
   "source": [
    "import os.path as osp\n",
    "\n",
    "import torch\n",
    "from sklearn.metrics import average_precision_score, roc_auc_score\n",
    "from torch.nn import Linear\n",
    "\n",
    "from torch_geometric.data import TemporalData\n",
    "from torch_geometric.loader import TemporalDataLoader\n",
    "from torch_geometric.nn import TGNMemory, TransformerConv\n",
    "from torch_geometric.nn.models.tgn import (\n",
    "    IdentityMessage,\n",
    "    LastAggregator,\n",
    "    LastNeighborLoader,\n",
    ")\n",
    "from tqdm import tqdm\n",
    "\n",
    "from helpers import append_to_csv_tgn\n",
    "\n",
    "device = torch.device('cuda' if torch.cuda.is_available() else 'cpu')\n",
    "device = 'cpu'"
   ]
  },
  {
   "cell_type": "code",
   "execution_count": 10,
   "id": "fd7dc7f5-d285-43c5-a42d-62ff923cf173",
   "metadata": {},
   "outputs": [],
   "source": [
    "# hyperparameters\n",
    "batch_size = 1024\n",
    "num_epochs = 5\n",
    "learning_rate = 0.001\n",
    "memory_dim = 100\n",
    "time_dim = 100\n",
    "embedding_dim = 100\n",
    "dropout = 0.1\n",
    "\n",
    "# experimental setting\n",
    "dataset_path = \"data/junyi/graph_sub.pt\"#\"data/act-mooc/graph.pt\" # \n",
    "data = torch.load(dataset_path)\n",
    "relative_time = False"
   ]
  },
  {
   "cell_type": "code",
   "execution_count": 11,
   "id": "166f7023-1b15-4fa9-ad08-770aae682f08",
   "metadata": {
    "editable": true,
    "slideshow": {
     "slide_type": ""
    },
    "tags": []
   },
   "outputs": [],
   "source": [
    "# data preparation\n",
    "del data[('resource', 'rev_accesses', 'user')]\n",
    "data = data.to_homogeneous()\n",
    "if relative_time:\n",
    "    unique_node_ids = data.node_id[data.node_type==0].unique()\n",
    "    min_times_per_node = {node_id: data.time[data.edge_index[0,:] == node_id].min() for node_id in unique_node_ids}\n",
    "    \n",
    "    # Subtract the minimum time from each node's times\n",
    "    for node_id, min_time in min_times_per_node.items():\n",
    "        data.time[data.edge_index[0,:] == node_id] -= min_time\n",
    "        data.time[data.edge_index[1,:] == node_id] -= min_time\n",
    "\n",
    "data_temp = TemporalData(\n",
    "    src=data.edge_index[0,:].to(torch.long),\n",
    "    dst=data.edge_index[1,:].to(torch.long),\n",
    "    t=data.time.to(torch.long),\n",
    "    msg=data.edge_attr.to(torch.float),\n",
    "    y=data.edge_y.to(torch.long)\n",
    ")\n",
    "data = data_temp"
   ]
  },
  {
   "cell_type": "code",
   "execution_count": 12,
   "id": "4227a86c-04ed-4ec9-a373-15b24d83de85",
   "metadata": {
    "editable": true,
    "slideshow": {
     "slide_type": ""
    },
    "tags": []
   },
   "outputs": [],
   "source": [
    "# For small datasets, we can put the whole dataset on GPU and thus avoid\n",
    "# expensive memory transfer costs for mini-batches:\n",
    "data = data.to(device)\n",
    "\n",
    "train_data, val_data, test_data = data.train_val_test_split(val_ratio=0.15, test_ratio=0.15)\n",
    "\n",
    "train_loader = TemporalDataLoader(train_data, batch_size=batch_size, neg_sampling_ratio=1.0)\n",
    "val_loader = TemporalDataLoader(val_data, batch_size=batch_size, neg_sampling_ratio=1.0)\n",
    "test_loader = TemporalDataLoader(test_data, batch_size=batch_size, neg_sampling_ratio=1.0)\n",
    "neighbor_loader = LastNeighborLoader(data.num_nodes, size=10, device=device)"
   ]
  },
  {
   "cell_type": "code",
   "execution_count": 13,
   "id": "da68d658-ed30-403a-9632-c099b810a606",
   "metadata": {},
   "outputs": [
    {
     "name": "stderr",
     "output_type": "stream",
     "text": [
      "100%|##########| 1073/1073 [00:00<00:00, 5067.04it/s]\n",
      "100%|##########| 230/230 [00:00<00:00, 4630.74it/s]\n",
      "100%|##########| 230/230 [00:00<00:00, 5129.80it/s]\n"
     ]
    }
   ],
   "source": [
    "import numpy as np\n",
    "time_array = data.t.cpu().numpy()\n",
    "quantile_70 = np.quantile(time_array, 0.7)\n",
    "quantile_85 = np.quantile(time_array, 0.85)\n",
    "for batch in tqdm(train_loader):\n",
    "    assert batch.t.min() <= quantile_70\n",
    "for batch in tqdm(val_loader):\n",
    "    assert batch.t.min() >= quantile_70\n",
    "    assert batch.t.max() <= quantile_85\n",
    "for batch in tqdm(test_loader):\n",
    "    assert batch.t.min() >= quantile_85"
   ]
  },
  {
   "cell_type": "code",
   "execution_count": 14,
   "id": "ac53cbd6-de2f-4061-9a91-cd0e63e113b2",
   "metadata": {
    "editable": true,
    "slideshow": {
     "slide_type": ""
    },
    "tags": []
   },
   "outputs": [],
   "source": [
    "class GraphAttentionEmbedding(torch.nn.Module):\n",
    "    def __init__(self, in_channels, out_channels, msg_dim, time_enc):\n",
    "        super().__init__()\n",
    "        self.time_enc = time_enc\n",
    "        edge_dim = msg_dim + time_enc.out_channels\n",
    "        self.conv = TransformerConv(in_channels, out_channels // 2, heads=2,\n",
    "                                    dropout=dropout, edge_dim=edge_dim)\n",
    "\n",
    "    def forward(self, x, last_update, edge_index, t, msg):\n",
    "        rel_t = last_update[edge_index[0]] - t\n",
    "        rel_t_enc = self.time_enc(rel_t.to(x.dtype))\n",
    "        edge_attr = torch.cat([rel_t_enc, msg], dim=-1)\n",
    "        return self.conv(x, edge_index, edge_attr)\n",
    "\n",
    "\n",
    "class LinkPredictor(torch.nn.Module):\n",
    "    def __init__(self, in_channels):\n",
    "        super().__init__()\n",
    "        self.lin_src = Linear(in_channels, in_channels)\n",
    "        self.lin_dst = Linear(in_channels, in_channels)\n",
    "        self.lin_final = Linear(in_channels, 1)\n",
    "\n",
    "    def forward(self, z_src, z_dst):\n",
    "        h = self.lin_src(z_src) + self.lin_dst(z_dst)\n",
    "        h = h.relu()\n",
    "        return self.lin_final(h)"
   ]
  },
  {
   "cell_type": "code",
   "execution_count": 15,
   "id": "5c20bb4c-ea04-431b-b8f5-21f876e9995a",
   "metadata": {
    "editable": true,
    "slideshow": {
     "slide_type": ""
    },
    "tags": []
   },
   "outputs": [],
   "source": [
    "criterion = torch.nn.BCEWithLogitsLoss()\n",
    "\n",
    "def train():\n",
    "    memory.train()\n",
    "    gnn.train()\n",
    "    link_pred.train()\n",
    "\n",
    "    memory.reset_state()  # Start with a fresh memory.\n",
    "    neighbor_loader.reset_state()  # Start with an empty graph.\n",
    "\n",
    "    total_loss = 0\n",
    "    for batch in tqdm(train_loader):\n",
    "        optimizer.zero_grad()\n",
    "        batch = batch.to(device)\n",
    "\n",
    "        n_id, edge_index, e_id = neighbor_loader(batch.n_id)\n",
    "        \n",
    "        assoc[n_id] = torch.arange(n_id.size(0), device=device)\n",
    "\n",
    "        # Get updated memory of all nodes involved in the computation.\n",
    "        z, last_update = memory(n_id)\n",
    "        z = gnn(z, last_update, edge_index, data.t[e_id].to(device),\n",
    "                data.msg[e_id].to(device))\n",
    "\n",
    "        positive_edges = batch.edge_index[:, batch.y == 1]\n",
    "        pos_out = link_pred(z[assoc[positive_edges[0]]], z[assoc[positive_edges[1]]])\n",
    "        loss = criterion(pos_out, torch.ones_like(pos_out))\n",
    "        \n",
    "        negative_indices = torch.nonzero(batch.y == 0).squeeze()\n",
    "        negative_indices = negative_indices[torch.randperm(negative_indices.size(0))][:positive_edges.size(1)]\n",
    "        negative_edges = batch.edge_index[:, negative_indices]\n",
    "        neg_out = link_pred(z[assoc[negative_edges[0]]], z[assoc[negative_edges[1]]])\n",
    "        loss += criterion(neg_out, torch.zeros_like(neg_out))\n",
    "\n",
    "        # Update memory and neighbor loader with ground-truth state.\n",
    "        memory.update_state(batch.src, batch.dst, batch.t, batch.msg)\n",
    "        neighbor_loader.insert(batch.src, batch.dst)\n",
    "\n",
    "        loss.backward()\n",
    "        optimizer.step()\n",
    "        memory.detach()\n",
    "        total_loss += float(loss) * batch.num_events\n",
    "\n",
    "    return total_loss / train_data.num_events\n",
    "\n",
    "\n",
    "@torch.no_grad()\n",
    "def test(loader):\n",
    "    memory.eval()\n",
    "    gnn.eval()\n",
    "    link_pred.eval()\n",
    "\n",
    "    torch.manual_seed(12345)  # Ensure deterministic sampling across epochs.\n",
    "\n",
    "    aps, aucs = [], []\n",
    "    true_labels = torch.Tensor().to(device)\n",
    "    predictions = torch.Tensor().to(device)\n",
    "    for batch in tqdm(loader):\n",
    "        batch = batch.to(device)\n",
    "\n",
    "        n_id, edge_index, e_id = neighbor_loader(batch.n_id)\n",
    "        assoc[n_id] = torch.arange(n_id.size(0), device=device)\n",
    "\n",
    "        z, last_update = memory(n_id)\n",
    "        z = gnn(z, last_update, edge_index, data.t[e_id].to(device), data.msg[e_id].to(device))\n",
    "        \n",
    "        out = link_pred(z[assoc[batch.src]], z[assoc[batch.dst]])\n",
    "\n",
    "        y_pred = out.sigmoid().cpu()\n",
    "        y_true = batch.y\n",
    "        \n",
    "        predictions = torch.cat((predictions, y_pred.detach()), dim=0)\n",
    "        true_labels = torch.cat((true_labels, batch.y), dim=0)\n",
    "\n",
    "        memory.update_state(batch.src, batch.dst, batch.t, batch.msg)\n",
    "        neighbor_loader.insert(batch.src, batch.dst)\n",
    "    auc = roc_auc_score(true_labels.cpu().numpy(), predictions.cpu().numpy())\n",
    "    ap = average_precision_score(true_labels.cpu().numpy(), predictions.cpu().numpy())\n",
    "    #return float(torch.tensor(aps).mean()), float(torch.tensor(aucs).mean())\n",
    "    return ap, auc"
   ]
  },
  {
   "cell_type": "code",
   "execution_count": 16,
   "id": "b8a4027b-fd1e-44ba-a2eb-bc07c3af4e14",
   "metadata": {},
   "outputs": [
    {
     "name": "stderr",
     "output_type": "stream",
     "text": [
      "100%|##########| 1073/1073 [00:26<00:00, 40.06it/s]\n"
     ]
    },
    {
     "name": "stdout",
     "output_type": "stream",
     "text": [
      "Epoch: 00, Loss: nan\n"
     ]
    },
    {
     "name": "stderr",
     "output_type": "stream",
     "text": [
      "100%|##########| 230/230 [00:02<00:00, 103.62it/s]\n",
      "100%|##########| 230/230 [00:02<00:00, 106.76it/s]\n"
     ]
    },
    {
     "name": "stdout",
     "output_type": "stream",
     "text": [
      "Val AP: 0.1089, Val AUC: 0.7477\n",
      "Test AP: 0.0579, Test AUC: 0.5380\n"
     ]
    },
    {
     "name": "stderr",
     "output_type": "stream",
     "text": [
      "100%|##########| 1073/1073 [00:26<00:00, 39.83it/s]\n"
     ]
    },
    {
     "name": "stdout",
     "output_type": "stream",
     "text": [
      "Epoch: 01, Loss: nan\n"
     ]
    },
    {
     "name": "stderr",
     "output_type": "stream",
     "text": [
      "100%|##########| 230/230 [00:02<00:00, 103.65it/s]\n",
      "100%|##########| 230/230 [00:02<00:00, 106.91it/s]\n"
     ]
    },
    {
     "name": "stdout",
     "output_type": "stream",
     "text": [
      "Val AP: 0.1161, Val AUC: 0.7693\n",
      "Test AP: 0.0624, Test AUC: 0.5714\n"
     ]
    },
    {
     "name": "stderr",
     "output_type": "stream",
     "text": [
      "100%|##########| 1073/1073 [00:27<00:00, 39.73it/s]\n"
     ]
    },
    {
     "name": "stdout",
     "output_type": "stream",
     "text": [
      "Epoch: 02, Loss: nan\n"
     ]
    },
    {
     "name": "stderr",
     "output_type": "stream",
     "text": [
      "100%|##########| 230/230 [00:02<00:00, 102.19it/s]\n",
      "100%|##########| 230/230 [00:02<00:00, 105.99it/s]\n"
     ]
    },
    {
     "name": "stdout",
     "output_type": "stream",
     "text": [
      "Val AP: 0.1063, Val AUC: 0.7454\n",
      "Test AP: 0.0555, Test AUC: 0.5475\n"
     ]
    },
    {
     "name": "stderr",
     "output_type": "stream",
     "text": [
      "100%|##########| 1073/1073 [00:26<00:00, 39.88it/s]\n"
     ]
    },
    {
     "name": "stdout",
     "output_type": "stream",
     "text": [
      "Epoch: 03, Loss: nan\n"
     ]
    },
    {
     "name": "stderr",
     "output_type": "stream",
     "text": [
      "100%|##########| 230/230 [00:02<00:00, 104.30it/s]\n",
      "100%|##########| 230/230 [00:02<00:00, 107.61it/s]\n"
     ]
    },
    {
     "name": "stdout",
     "output_type": "stream",
     "text": [
      "Val AP: 0.1084, Val AUC: 0.7476\n",
      "Test AP: 0.0562, Test AUC: 0.5606\n"
     ]
    },
    {
     "name": "stderr",
     "output_type": "stream",
     "text": [
      "100%|##########| 1073/1073 [00:26<00:00, 39.96it/s]\n"
     ]
    },
    {
     "name": "stdout",
     "output_type": "stream",
     "text": [
      "Epoch: 04, Loss: nan\n"
     ]
    },
    {
     "name": "stderr",
     "output_type": "stream",
     "text": [
      "100%|##########| 230/230 [00:02<00:00, 104.30it/s]\n",
      "100%|##########| 230/230 [00:02<00:00, 102.52it/s]\n"
     ]
    },
    {
     "name": "stdout",
     "output_type": "stream",
     "text": [
      "Val AP: 0.1070, Val AUC: 0.7501\n",
      "Test AP: 0.0537, Test AUC: 0.5589\n"
     ]
    },
    {
     "name": "stderr",
     "output_type": "stream",
     "text": [
      "100%|##########| 1073/1073 [00:26<00:00, 39.84it/s]\n"
     ]
    },
    {
     "name": "stdout",
     "output_type": "stream",
     "text": [
      "Epoch: 00, Loss: nan\n"
     ]
    },
    {
     "name": "stderr",
     "output_type": "stream",
     "text": [
      "100%|##########| 230/230 [00:02<00:00, 101.37it/s]\n",
      "100%|##########| 230/230 [00:02<00:00, 105.80it/s]\n"
     ]
    },
    {
     "name": "stdout",
     "output_type": "stream",
     "text": [
      "Val AP: 0.1100, Val AUC: 0.7582\n",
      "Test AP: 0.0568, Test AUC: 0.5676\n"
     ]
    },
    {
     "name": "stderr",
     "output_type": "stream",
     "text": [
      "100%|##########| 1073/1073 [00:27<00:00, 39.51it/s]\n"
     ]
    },
    {
     "name": "stdout",
     "output_type": "stream",
     "text": [
      "Epoch: 01, Loss: nan\n"
     ]
    },
    {
     "name": "stderr",
     "output_type": "stream",
     "text": [
      "100%|##########| 230/230 [00:02<00:00, 103.25it/s]\n",
      "100%|##########| 230/230 [00:02<00:00, 107.28it/s]\n"
     ]
    },
    {
     "name": "stdout",
     "output_type": "stream",
     "text": [
      "Val AP: 0.1101, Val AUC: 0.7552\n",
      "Test AP: 0.0590, Test AUC: 0.5578\n"
     ]
    },
    {
     "name": "stderr",
     "output_type": "stream",
     "text": [
      "100%|##########| 1073/1073 [00:27<00:00, 39.63it/s]\n"
     ]
    },
    {
     "name": "stdout",
     "output_type": "stream",
     "text": [
      "Epoch: 02, Loss: nan\n"
     ]
    },
    {
     "name": "stderr",
     "output_type": "stream",
     "text": [
      "100%|##########| 230/230 [00:02<00:00, 102.56it/s]\n",
      "100%|##########| 230/230 [00:02<00:00, 105.80it/s]\n"
     ]
    },
    {
     "name": "stdout",
     "output_type": "stream",
     "text": [
      "Val AP: 0.1116, Val AUC: 0.7540\n",
      "Test AP: 0.0556, Test AUC: 0.5495\n"
     ]
    },
    {
     "name": "stderr",
     "output_type": "stream",
     "text": [
      "100%|##########| 1073/1073 [00:27<00:00, 39.47it/s]\n"
     ]
    },
    {
     "name": "stdout",
     "output_type": "stream",
     "text": [
      "Epoch: 03, Loss: nan\n"
     ]
    },
    {
     "name": "stderr",
     "output_type": "stream",
     "text": [
      "100%|##########| 230/230 [00:02<00:00, 103.25it/s]\n",
      "100%|##########| 230/230 [00:02<00:00, 106.47it/s]\n"
     ]
    },
    {
     "name": "stdout",
     "output_type": "stream",
     "text": [
      "Val AP: 0.1123, Val AUC: 0.7465\n",
      "Test AP: 0.0542, Test AUC: 0.5355\n"
     ]
    },
    {
     "name": "stderr",
     "output_type": "stream",
     "text": [
      "100%|##########| 1073/1073 [00:27<00:00, 39.51it/s]\n"
     ]
    },
    {
     "name": "stdout",
     "output_type": "stream",
     "text": [
      "Epoch: 04, Loss: nan\n"
     ]
    },
    {
     "name": "stderr",
     "output_type": "stream",
     "text": [
      "100%|##########| 230/230 [00:02<00:00, 102.52it/s]\n",
      "100%|##########| 230/230 [00:02<00:00, 100.93it/s]\n"
     ]
    },
    {
     "name": "stdout",
     "output_type": "stream",
     "text": [
      "Val AP: 0.1088, Val AUC: 0.7478\n",
      "Test AP: 0.0573, Test AUC: 0.5575\n"
     ]
    },
    {
     "name": "stderr",
     "output_type": "stream",
     "text": [
      "100%|##########| 1073/1073 [00:27<00:00, 39.72it/s]\n"
     ]
    },
    {
     "name": "stdout",
     "output_type": "stream",
     "text": [
      "Epoch: 00, Loss: nan\n"
     ]
    },
    {
     "name": "stderr",
     "output_type": "stream",
     "text": [
      "100%|##########| 230/230 [00:02<00:00, 103.05it/s]\n",
      "100%|##########| 230/230 [00:02<00:00, 106.73it/s]\n"
     ]
    },
    {
     "name": "stdout",
     "output_type": "stream",
     "text": [
      "Val AP: 0.1100, Val AUC: 0.7582\n",
      "Test AP: 0.0568, Test AUC: 0.5676\n"
     ]
    },
    {
     "name": "stderr",
     "output_type": "stream",
     "text": [
      "100%|##########| 1073/1073 [00:27<00:00, 39.53it/s]\n"
     ]
    },
    {
     "name": "stdout",
     "output_type": "stream",
     "text": [
      "Epoch: 01, Loss: nan\n"
     ]
    },
    {
     "name": "stderr",
     "output_type": "stream",
     "text": [
      "100%|##########| 230/230 [00:02<00:00, 103.59it/s]\n",
      "100%|##########| 230/230 [00:02<00:00, 105.83it/s]\n"
     ]
    },
    {
     "name": "stdout",
     "output_type": "stream",
     "text": [
      "Val AP: 0.1101, Val AUC: 0.7552\n",
      "Test AP: 0.0590, Test AUC: 0.5578\n"
     ]
    },
    {
     "name": "stderr",
     "output_type": "stream",
     "text": [
      "100%|##########| 1073/1073 [00:27<00:00, 39.51it/s]\n"
     ]
    },
    {
     "name": "stdout",
     "output_type": "stream",
     "text": [
      "Epoch: 02, Loss: nan\n"
     ]
    },
    {
     "name": "stderr",
     "output_type": "stream",
     "text": [
      "100%|##########| 230/230 [00:02<00:00, 103.32it/s]\n",
      "100%|##########| 230/230 [00:02<00:00, 106.43it/s]\n"
     ]
    },
    {
     "name": "stdout",
     "output_type": "stream",
     "text": [
      "Val AP: 0.1116, Val AUC: 0.7540\n",
      "Test AP: 0.0556, Test AUC: 0.5495\n"
     ]
    },
    {
     "name": "stderr",
     "output_type": "stream",
     "text": [
      "100%|##########| 1073/1073 [00:27<00:00, 39.45it/s]\n"
     ]
    },
    {
     "name": "stdout",
     "output_type": "stream",
     "text": [
      "Epoch: 03, Loss: nan\n"
     ]
    },
    {
     "name": "stderr",
     "output_type": "stream",
     "text": [
      "100%|##########| 230/230 [00:02<00:00, 101.68it/s]\n",
      "100%|##########| 230/230 [00:02<00:00, 103.81it/s]\n"
     ]
    },
    {
     "name": "stdout",
     "output_type": "stream",
     "text": [
      "Val AP: 0.1123, Val AUC: 0.7465\n",
      "Test AP: 0.0542, Test AUC: 0.5355\n"
     ]
    },
    {
     "name": "stderr",
     "output_type": "stream",
     "text": [
      "100%|##########| 1073/1073 [00:27<00:00, 39.34it/s]\n"
     ]
    },
    {
     "name": "stdout",
     "output_type": "stream",
     "text": [
      "Epoch: 04, Loss: nan\n"
     ]
    },
    {
     "name": "stderr",
     "output_type": "stream",
     "text": [
      "100%|##########| 230/230 [00:02<00:00, 101.23it/s]\n",
      "100%|##########| 230/230 [00:02<00:00, 100.44it/s]\n"
     ]
    },
    {
     "name": "stdout",
     "output_type": "stream",
     "text": [
      "Val AP: 0.1088, Val AUC: 0.7478\n",
      "Test AP: 0.0573, Test AUC: 0.5575\n"
     ]
    }
   ],
   "source": [
    "for i in range(0, 3):\n",
    "    memory = TGNMemory(data.num_nodes, data.msg.size(-1), memory_dim, time_dim,\n",
    "                   message_module=IdentityMessage(data.msg.size(-1), memory_dim, time_dim),\n",
    "                   aggregator_module=LastAggregator(),).to(device)\n",
    "\n",
    "    gnn = GraphAttentionEmbedding(in_channels=memory_dim, out_channels=embedding_dim, msg_dim=data.msg.size(-1), time_enc=memory.time_enc,).to(device)\n",
    "    link_pred = LinkPredictor(in_channels=embedding_dim).to(device)\n",
    "    assoc = torch.empty(data.num_nodes, dtype=torch.long, device=device)\n",
    "    optimizer = torch.optim.Adam(set(memory.parameters()) | set(gnn.parameters()) | set(link_pred.parameters()), lr=learning_rate)\n",
    "    for epoch in range(0, num_epochs):\n",
    "        loss = train()\n",
    "        print(f'Epoch: {epoch:02d}, Loss: {loss:.4f}')\n",
    "        val_ap, val_auc = test(val_loader)\n",
    "        test_ap, test_auc = test(test_loader)\n",
    "        print(f'Val AP: {val_ap:.4f}, Val AUC: {val_auc:.4f}')\n",
    "        print(f'Test AP: {test_ap:.4f}, Test AUC: {test_auc:.4f}')\n",
    "    \n",
    "    append_to_csv_tgn(\"results/results_tgn.csv\", dataset_path, batch_size, num_epochs, learning_rate, memory_dim, time_dim, embedding_dim, dropout,\n",
    "                  loss, val_auc, test_auc, val_ap, test_ap, i)"
   ]
  },
  {
   "cell_type": "code",
   "execution_count": null,
   "id": "0fe27d86-38b9-4488-8690-8ccbd4dc9bab",
   "metadata": {},
   "outputs": [],
   "source": []
  }
 ],
 "metadata": {
  "kernelspec": {
   "display_name": "Python 3.11 (XPython Raw)",
   "language": "python",
   "name": "xpython-raw"
  },
  "language_info": {
   "file_extension": ".py",
   "mimetype": "text/x-python",
   "name": "python",
   "version": "3.11.1"
  }
 },
 "nbformat": 4,
 "nbformat_minor": 5
}
