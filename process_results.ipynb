{
 "cells": [
  {
   "cell_type": "code",
   "execution_count": 12,
   "id": "c653ed83-c67d-46b9-8e25-b154e272e103",
   "metadata": {},
   "outputs": [
    {
     "name": "stdout",
     "output_type": "stream",
     "text": [
      "\n",
      "LaTeX Table for dataset path: data/act-mooc/graph.pt\n",
      "\n",
      "\\begin{tabular}{cccc}\n",
      "Components & Mean Test AUC (std) & Mean Test AP (std) \\\\ \\hline\n",
      "Baseline & 0.507 (0.020) & 0.010 (0.001) \\\\\n",
      "Relative Time & 0.511 (0.003) & 0.010 (0.000) \\\\\n",
      "Semi Transductive & 0.503 (0.008) & 0.010 (0.001) \\\\\n",
      "Semi Transductive + Relative Time & 0.488 (0.009) & 0.009 (0.000) \\\\\n",
      "Heterogenous Msg Passing & 0.672 (0.016) & 0.021 (0.001) \\\\\n",
      "Heterogenous Msg Passing + Relative Time & 0.605 (0.063) & 0.016 (0.004) \\\\\n",
      "Heterogenous Msg Passing + Semi Transductive & 0.670 (0.051) & 0.020 (0.003) \\\\\n",
      "Heterogenous Msg Passing + Semi Transductive + Relative Time & 0.628 (0.099) & 0.018 (0.006) \\\\\n",
      "\\end{tabular}\n",
      "\n",
      "\n",
      "LaTeX Table for dataset path: data/junyi/graph_sub.pt\n",
      "\n",
      "\\begin{tabular}{cccc}\n",
      "Components & Mean Test AUC (std) & Mean Test AP (std) \\\\ \\hline\n",
      "Baseline & 0.493 (0.004) & 0.041 (0.001) \\\\\n",
      "Relative Time & 0.487 (0.004) & 0.039 (0.002) \\\\\n",
      "Semi Transductive & 0.515 (0.007) & 0.043 (0.003) \\\\\n",
      "Semi Transductive + Relative Time & 0.503 (0.010) & 0.042 (0.001) \\\\\n",
      "Heterogenous Msg Passing & 0.595 (0.003) & 0.060 (0.002) \\\\\n",
      "Heterogenous Msg Passing + Relative Time & 0.578 (0.027) & 0.056 (0.003) \\\\\n",
      "Heterogenous Msg Passing + Semi Transductive & 0.584 (0.007) & 0.059 (0.001) \\\\\n",
      "Heterogenous Msg Passing + Semi Transductive + Relative Time & 0.559 (0.046) & 0.052 (0.009) \\\\\n",
      "\\end{tabular}\n",
      "\n"
     ]
    }
   ],
   "source": [
    "import pandas as pd\n",
    "\n",
    "def format_mean_std(mean, std):\n",
    "    return f\"{mean:.3f} ({std:.3f})\"\n",
    "\n",
    "def relabel(row):\n",
    "    labels = []\n",
    "    if row['heterogenous_msg_passing']:\n",
    "        labels.append(\"Heterogenous Msg Passing\")\n",
    "    if row['semi_transductive']:\n",
    "        labels.append(\"Semi Transductive\")\n",
    "    if row['relative_time']:\n",
    "        labels.append(\"Relative Time\")\n",
    "    if not len(labels): labels = [\"Baseline\"]\n",
    "    row['combined_dimensions'] = ' + '.join(labels)\n",
    "    return row\n",
    "\n",
    "def process_csv_to_latex(csv_file):\n",
    "    df = pd.read_csv(csv_file)\n",
    "\n",
    "    # Grouping the dataframe and calculating mean and std\n",
    "    grouped_df = df.groupby(['dataset_path', 'heterogenous_msg_passing', 'semi_transductive', 'relative_time']).agg(\n",
    "        test_AUC_mean=('test_AUC', 'mean'),\n",
    "        test_AUC_std=('test_AUC', 'std'),\n",
    "        test_AP_mean=('test_AP', 'mean'),\n",
    "        test_AP_std=('test_AP', 'std')\n",
    "    ).reset_index()\n",
    "\n",
    "    # Relabeling and counting True values\n",
    "    grouped_df = grouped_df.apply(relabel, axis=1)\n",
    "\n",
    "\n",
    "    # Formatting the output for LaTeX tables\n",
    "    for path, group in grouped_df.groupby('dataset_path'):\n",
    "        print(f\"\\nLaTeX Table for dataset path: {path}\\n\")\n",
    "        print(\"\\\\begin{tabular}{cccc}\")\n",
    "        print(\"Components & Mean Test AUC (std) & Mean Test AP (std) \\\\\\\\ \\\\hline\")\n",
    "        for _, row in group.iterrows():\n",
    "            print(f\"{row['combined_dimensions']} & \"\n",
    "                  f\"{format_mean_std(row['test_AUC_mean'], row['test_AUC_std'])} & \"\n",
    "                  f\"{format_mean_std(row['test_AP_mean'], row['test_AP_std'])} \\\\\\\\\")\n",
    "        print(\"\\\\end{tabular}\\n\")\n",
    "\n",
    "# Replace 'yourfile.csv' with the path to your CSV file\n",
    "process_csv_to_latex('results.csv')\n"
   ]
  },
  {
   "cell_type": "code",
   "execution_count": null,
   "id": "d7e9956a-c668-458c-9734-f69d1764e770",
   "metadata": {},
   "outputs": [],
   "source": []
  }
 ],
 "metadata": {
  "kernelspec": {
   "display_name": "Python 3 (ipykernel)",
   "language": "python",
   "name": "python3"
  },
  "language_info": {
   "codemirror_mode": {
    "name": "ipython",
    "version": 3
   },
   "file_extension": ".py",
   "mimetype": "text/x-python",
   "name": "python",
   "nbconvert_exporter": "python",
   "pygments_lexer": "ipython3",
   "version": "3.11.6"
  }
 },
 "nbformat": 4,
 "nbformat_minor": 5
}
