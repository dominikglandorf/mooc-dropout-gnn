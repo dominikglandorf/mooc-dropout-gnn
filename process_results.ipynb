{
 "cells": [
  {
   "cell_type": "code",
   "execution_count": 8,
   "id": "c653ed83-c67d-46b9-8e25-b154e272e103",
   "metadata": {},
   "outputs": [
    {
     "name": "stdout",
     "output_type": "stream",
     "text": [
      "\n",
      "LaTeX Table for dataset path: data/act-mooc/graph.pt\n",
      "\n",
      "\\begin{tabular}{lll}\\toprule\n",
      "Components & Test AUC (std) & Test AP (std) \\\\ \\midrule\n",
      "Baseline & 0.491 (0.009) & 0.009 (0.000) \\\\\n",
      "Relative Time & 0.508 (0.010) & 0.010 (0.000) \\\\\n",
      "Semi-transductive & 0.517 (0.012) & 0.010 (0.001) \\\\\n",
      "Semi-transductive + Relative Time & 0.506 (0.009) & 0.010 (0.000) \\\\\n",
      "Hetero Msg Passing & 0.720 (0.003) & 0.024 (0.001) \\\\\n",
      "Hetero Msg Passing + Relative Time & 0.720 (0.003) & 0.023 (0.001) \\\\\n",
      "Hetero Msg Passing + Semi-transductive & 0.719 (0.002) & 0.024 (0.000) \\\\\n",
      "Hetero Msg Passing + Semi-transductive + Relative Time & \\textbf{0.724 (0.004)} & \\textbf{0.027 (0.004)} \\\\\n",
      "\\bottomrule\\end{tabular}\n",
      "\n",
      "\n",
      "LaTeX Table for dataset path: data/junyi/graph_sub.pt\n",
      "\n",
      "\\begin{tabular}{lll}\\toprule\n",
      "Components & Test AUC (std) & Test AP (std) \\\\ \\midrule\n",
      "Baseline & 0.497 (0.010) & 0.040 (0.000) \\\\\n",
      "Relative Time & 0.490 (0.016) & 0.039 (0.001) \\\\\n",
      "Semi-transductive & 0.514 (0.005) & 0.042 (0.001) \\\\\n",
      "Semi-transductive + Relative Time & 0.490 (0.015) & 0.039 (0.002) \\\\\n",
      "Hetero Msg Passing & 0.597 (0.002) & 0.059 (0.003) \\\\\n",
      "Hetero Msg Passing + Relative Time & \\textbf{0.598 (0.002)} & \\textbf{0.058 (0.002)} \\\\\n",
      "Hetero Msg Passing + Semi-transductive & 0.598 (0.001) & 0.059 (0.004) \\\\\n",
      "Hetero Msg Passing + Semi-transductive + Relative Time & 0.596 (0.002) & 0.061 (0.002) \\\\\n",
      "\\bottomrule\\end{tabular}\n",
      "\n"
     ]
    }
   ],
   "source": [
    "import pandas as pd\n",
    "\n",
    "def format_mean_std(mean, std, is_max=False):\n",
    "    value = f\"{mean:.3f} ({std:.3f})\"\n",
    "    return f\"\\\\textbf{{{value}}}\" if is_max else value\n",
    "\n",
    "\n",
    "def relabel(row):\n",
    "    labels = []\n",
    "    if row['heterogenous_msg_passing']:\n",
    "        labels.append(\"Hetero Msg Passing\")\n",
    "    if row['semi_transductive']:\n",
    "        labels.append(\"Semi-transductive\")\n",
    "    if row['relative_time']:\n",
    "        labels.append(\"Relative Time\")\n",
    "    if not len(labels): labels = [\"Baseline\"]\n",
    "    row['combined_dimensions'] = ' + '.join(labels)\n",
    "    return row\n",
    "\n",
    "def process_csv_to_latex(csv_file):\n",
    "    df = pd.read_csv(csv_file)\n",
    "\n",
    "    # Grouping the dataframe and calculating mean and std\n",
    "    grouped_df = df.groupby(['dataset_path', 'heterogenous_msg_passing', 'semi_transductive', 'relative_time']).agg(\n",
    "        test_AUC_mean=('test_AUC', 'mean'),\n",
    "        test_AUC_std=('test_AUC', 'std'),\n",
    "        test_AP_mean=('test_AP', 'mean'),\n",
    "        test_AP_std=('test_AP', 'std')\n",
    "    ).reset_index()\n",
    "\n",
    "    # Relabeling and counting True values\n",
    "    grouped_df = grouped_df.apply(relabel, axis=1)\n",
    "\n",
    "    # Formatting the output for LaTeX tables\n",
    "    for path, group in grouped_df.groupby('dataset_path'):\n",
    "        max_auc = group['test_AUC_mean'].max()\n",
    "        max_ap = group['test_AP_mean'].max()\n",
    "        print(f\"\\nLaTeX Table for dataset path: {path}\\n\")\n",
    "        print(\"\\\\begin{tabular}{lll}\\\\toprule\")\n",
    "        print(\"Components & Test AUC (std) & Test AP (std) \\\\\\\\ \\\\midrule\")\n",
    "        for _, row in group.iterrows():\n",
    "            print(f\"{row['combined_dimensions']} & \"\n",
    "                  f\"{format_mean_std(row['test_AUC_mean'], row['test_AUC_std'], row['test_AUC_mean'] == max_auc)} & \"\n",
    "                  f\"{format_mean_std(row['test_AP_mean'], row['test_AP_std'], row['test_AUC_mean'] == max_auc)} \\\\\\\\\")\n",
    "        print(\"\\\\bottomrule\\\\end{tabular}\\n\")\n",
    "\n",
    "# Replace 'yourfile.csv' with the path to your CSV file\n",
    "process_csv_to_latex('results.csv')\n"
   ]
  },
  {
   "cell_type": "code",
   "execution_count": null,
   "id": "d7e9956a-c668-458c-9734-f69d1764e770",
   "metadata": {},
   "outputs": [],
   "source": []
  }
 ],
 "metadata": {
  "kernelspec": {
   "display_name": "Python 3 (ipykernel)",
   "language": "python",
   "name": "python3"
  },
  "language_info": {
   "codemirror_mode": {
    "name": "ipython",
    "version": 3
   },
   "file_extension": ".py",
   "mimetype": "text/x-python",
   "name": "python",
   "nbconvert_exporter": "python",
   "pygments_lexer": "ipython3",
   "version": "3.11.6"
  }
 },
 "nbformat": 4,
 "nbformat_minor": 5
}
