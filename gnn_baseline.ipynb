{
 "cells": [
  {
   "cell_type": "code",
   "execution_count": 1,
   "id": "2c8385e9-dc0f-4cbc-ae4c-da8a5c918176",
   "metadata": {},
   "outputs": [],
   "source": [
    "import torch"
   ]
  },
  {
   "cell_type": "code",
   "execution_count": 2,
   "id": "fc4dcd4a-b913-46ab-ae4a-b5d7eb682b8b",
   "metadata": {
    "editable": true,
    "slideshow": {
     "slide_type": ""
    },
    "tags": []
   },
   "outputs": [],
   "source": [
    "data = torch.load(\"data/act-mooc/graph.pt\")"
   ]
  },
  {
   "cell_type": "code",
   "execution_count": 3,
   "id": "39f2d206-4bde-4025-95f0-e00518f5b99c",
   "metadata": {
    "editable": true,
    "slideshow": {
     "slide_type": ""
    },
    "tags": []
   },
   "outputs": [
    {
     "data": {
      "text/plain": [
       "HeteroData(\n",
       "  user={ node_id=[7047] },\n",
       "  resource={ node_id=[97] },\n",
       "  (user, accesses, resource)={\n",
       "    edge_index=[2, 411749],\n",
       "    edge_attr=[411749, 4],\n",
       "    time=[411749],\n",
       "    edge_y=[411749],\n",
       "  },\n",
       "  (resource, rev_accesses, user)={\n",
       "    edge_index=[2, 411749],\n",
       "    edge_attr=[411749, 4],\n",
       "    time=[411749],\n",
       "    edge_y=[411749],\n",
       "  }\n",
       ")"
      ]
     },
     "execution_count": 3,
     "metadata": {},
     "output_type": "execute_result"
    }
   ],
   "source": [
    "data"
   ]
  },
  {
   "cell_type": "code",
   "execution_count": null,
   "id": "bd69e2f3-a48c-4c9a-8283-bda993b3a69b",
   "metadata": {
    "editable": true,
    "slideshow": {
     "slide_type": ""
    },
    "tags": []
   },
   "outputs": [],
   "source": [
    "# TODO:\n",
    "# 1. define forward pass model\n",
    "# 1a. message passing between all nodes by the edges they have excluding future edges of users and resources\n",
    "# 1b. temporal link prediction based on embeddings\n",
    "# 1c. temporal dropout prediction\n",
    "# 2. training routine\n",
    "# 2a. special sampling\n",
    "# 3. test routine"
   ]
  }
 ],
 "metadata": {
  "kernelspec": {
   "display_name": "Python 3 (ipykernel)",
   "language": "python",
   "name": "python3"
  },
  "language_info": {
   "codemirror_mode": {
    "name": "ipython",
    "version": 3
   },
   "file_extension": ".py",
   "mimetype": "text/x-python",
   "name": "python",
   "nbconvert_exporter": "python",
   "pygments_lexer": "ipython3",
   "version": "3.11.6"
  }
 },
 "nbformat": 4,
 "nbformat_minor": 5
}
